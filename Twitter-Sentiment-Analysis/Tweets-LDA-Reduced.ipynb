{
 "cells": [
  {
   "attachments": {},
   "cell_type": "markdown",
   "metadata": {},
   "source": [
    "## 1. Introduction\n",
    "In natural language processing, the Latent Dirichlet Allocation (LDA) is a generative statistical model that allows sets of observations to be explained by unobserved groups that explain why some parts of the data are similar.\n",
    "We would like to determine the number of topics on tweets from Egypt collected in 1st Decemeber 2022."
   ]
  },
  {
   "attachments": {},
   "cell_type": "markdown",
   "metadata": {},
   "source": [
    "## 2. Exploratory data analysis (EDA)"
   ]
  },
  {
   "attachments": {},
   "cell_type": "markdown",
   "metadata": {},
   "source": [
    "### 2.1 Initialize Spark"
   ]
  },
  {
   "cell_type": "code",
   "execution_count": 5,
   "metadata": {},
   "outputs": [
    {
     "ename": "ValueError",
     "evalue": "Couldn't find Spark, make sure SPARK_HOME env is set or Spark is in an expected location (e.g. from homebrew installation).",
     "output_type": "error",
     "traceback": [
      "\u001b[0;31m---------------------------------------------------------------------------\u001b[0m",
      "\u001b[0;31mValueError\u001b[0m                                Traceback (most recent call last)",
      "Cell \u001b[0;32mIn[5], line 3\u001b[0m\n\u001b[1;32m      1\u001b[0m \u001b[39mimport\u001b[39;00m \u001b[39mjson\u001b[39;00m \n\u001b[1;32m      2\u001b[0m \u001b[39mimport\u001b[39;00m \u001b[39mfindspark\u001b[39;00m\n\u001b[0;32m----> 3\u001b[0m findspark\u001b[39m.\u001b[39;49minit()\n",
      "File \u001b[0;32m~/Library/Python/3.8/lib/python/site-packages/findspark.py:143\u001b[0m, in \u001b[0;36minit\u001b[0;34m(spark_home, python_path, edit_rc, edit_profile)\u001b[0m\n\u001b[1;32m    121\u001b[0m \u001b[39m\"\"\"Make pyspark importable.\u001b[39;00m\n\u001b[1;32m    122\u001b[0m \n\u001b[1;32m    123\u001b[0m \u001b[39mSets environment variables and adds dependencies to sys.path.\u001b[39;00m\n\u001b[0;32m   (...)\u001b[0m\n\u001b[1;32m    139\u001b[0m \u001b[39m    configure and import pyspark.\u001b[39;00m\n\u001b[1;32m    140\u001b[0m \u001b[39m\"\"\"\u001b[39;00m\n\u001b[1;32m    142\u001b[0m \u001b[39mif\u001b[39;00m \u001b[39mnot\u001b[39;00m spark_home:\n\u001b[0;32m--> 143\u001b[0m     spark_home \u001b[39m=\u001b[39m find()\n\u001b[1;32m    145\u001b[0m \u001b[39mif\u001b[39;00m \u001b[39mnot\u001b[39;00m python_path:\n\u001b[1;32m    146\u001b[0m     python_path \u001b[39m=\u001b[39m os\u001b[39m.\u001b[39menviron\u001b[39m.\u001b[39mget(\u001b[39m\"\u001b[39m\u001b[39mPYSPARK_PYTHON\u001b[39m\u001b[39m\"\u001b[39m, sys\u001b[39m.\u001b[39mexecutable)\n",
      "File \u001b[0;32m~/Library/Python/3.8/lib/python/site-packages/findspark.py:46\u001b[0m, in \u001b[0;36mfind\u001b[0;34m()\u001b[0m\n\u001b[1;32m     43\u001b[0m         spark_home \u001b[39m=\u001b[39m os\u001b[39m.\u001b[39mpath\u001b[39m.\u001b[39mdirname(pyspark\u001b[39m.\u001b[39m\u001b[39m__file__\u001b[39m)\n\u001b[1;32m     45\u001b[0m \u001b[39mif\u001b[39;00m \u001b[39mnot\u001b[39;00m spark_home:\n\u001b[0;32m---> 46\u001b[0m     \u001b[39mraise\u001b[39;00m \u001b[39mValueError\u001b[39;00m(\n\u001b[1;32m     47\u001b[0m         \u001b[39m\"\u001b[39m\u001b[39mCouldn\u001b[39m\u001b[39m'\u001b[39m\u001b[39mt find Spark, make sure SPARK_HOME env is set\u001b[39m\u001b[39m\"\u001b[39m\n\u001b[1;32m     48\u001b[0m         \u001b[39m\"\u001b[39m\u001b[39m or Spark is in an expected location (e.g. from homebrew installation).\u001b[39m\u001b[39m\"\u001b[39m\n\u001b[1;32m     49\u001b[0m     )\n\u001b[1;32m     51\u001b[0m \u001b[39mreturn\u001b[39;00m spark_home\n",
      "\u001b[0;31mValueError\u001b[0m: Couldn't find Spark, make sure SPARK_HOME env is set or Spark is in an expected location (e.g. from homebrew installation)."
     ]
    }
   ],
   "source": [
    "import json \n",
    "import findspark\n",
    "findspark.init()"
   ]
  },
  {
   "attachments": {},
   "cell_type": "markdown",
   "metadata": {},
   "source": [
    "### 2.2 Create the spark app "
   ]
  },
  {
   "cell_type": "code",
   "execution_count": 2,
   "metadata": {},
   "outputs": [],
   "source": [
    "from pyspark.sql import SparkSession\n",
    "from pyspark.sql.functions import split, explode, udf, lit, col, size, expr\n",
    "\n",
    "spark = SparkSession.builder.appName('read JSON files').getOrCreate()"
   ]
  },
  {
   "attachments": {},
   "cell_type": "markdown",
   "metadata": {},
   "source": [
    "### 2.3 Read all the fetched tweets Json files"
   ]
  },
  {
   "cell_type": "code",
   "execution_count": 3,
   "metadata": {},
   "outputs": [
    {
     "name": "stdout",
     "output_type": "stream",
     "text": [
      "jsonFiles2/NovemberTweets2.json\n",
      "jsonFiles2/NovemberTweets3.json\n",
      "jsonFiles2/NovemberTweets4.json\n",
      "jsonFiles2/NovemberTweets5.json\n",
      "jsonFiles2/NovemberTweets6.json\n",
      "jsonFiles2/NovemberTweets7.json\n",
      "jsonFiles2/NovemberTweets8.json\n",
      "jsonFiles2/NovemberTweets9.json\n",
      "jsonFiles2/NovemberTweets10.json\n",
      "jsonFiles2/NovemberTweets11.json\n",
      "jsonFiles2/NovemberTweets12.json\n",
      "jsonFiles2/NovemberTweets13.json\n",
      "jsonFiles2/NovemberTweets14.json\n",
      "jsonFiles2/NovemberTweets15.json\n",
      "jsonFiles2/NovemberTweets16.json\n",
      "jsonFiles2/NovemberTweets17.json\n",
      "jsonFiles2/NovemberTweets18.json\n",
      "jsonFiles2/NovemberTweets19.json\n",
      "jsonFiles2/NovemberTweets20.json\n",
      "jsonFiles2/NovemberTweets21.json\n",
      "jsonFiles2/NovemberTweets22.json\n",
      "jsonFiles2/NovemberTweets23.json\n",
      "jsonFiles2/NovemberTweets24.json\n",
      "jsonFiles2/NovemberTweets25.json\n",
      "jsonFiles2/NovemberTweets26.json\n",
      "jsonFiles2/NovemberTweets27.json\n",
      "jsonFiles2/NovemberTweets28.json\n",
      "jsonFiles2/NovemberTweets29.json\n",
      "jsonFiles2/NovemberTweets30.json\n",
      "jsonFiles2/NovemberTweets31.json\n",
      "jsonFiles2/NovemberTweets32.json\n",
      "jsonFiles2/NovemberTweets33.json\n",
      "jsonFiles2/NovemberTweets34.json\n",
      "jsonFiles2/NovemberTweets35.json\n",
      "jsonFiles2/NovemberTweets36.json\n",
      "jsonFiles2/NovemberTweets37.json\n",
      "jsonFiles2/NovemberTweets38.json\n",
      "jsonFiles2/NovemberTweets39.json\n",
      "jsonFiles2/NovemberTweets40.json\n",
      "jsonFiles2/NovemberTweets41.json\n",
      "jsonFiles2/NovemberTweets42.json\n",
      "jsonFiles2/NovemberTweets43.json\n",
      "jsonFiles2/NovemberTweets44.json\n",
      "jsonFiles2/NovemberTweets45.json\n",
      "jsonFiles2/NovemberTweets46.json\n",
      "jsonFiles2/NovemberTweets47.json\n",
      "jsonFiles2/NovemberTweets48.json\n",
      "jsonFiles2/NovemberTweets49.json\n",
      "jsonFiles2/NovemberTweets50.json\n",
      "jsonFiles2/NovemberTweets51.json\n",
      "jsonFiles2/NovemberTweets52.json\n",
      "jsonFiles2/NovemberTweets53.json\n",
      "jsonFiles2/NovemberTweets54.json\n",
      "jsonFiles2/NovemberTweets55.json\n",
      "jsonFiles2/NovemberTweets56.json\n",
      "jsonFiles2/NovemberTweets57.json\n",
      "jsonFiles2/NovemberTweets58.json\n",
      "jsonFiles2/NovemberTweets59.json\n",
      "jsonFiles2/NovemberTweets60.json\n",
      "jsonFiles2/NovemberTweets61.json\n",
      "jsonFiles2/NovemberTweets62.json\n",
      "jsonFiles2/NovemberTweets63.json\n",
      "jsonFiles2/NovemberTweets64.json\n",
      "jsonFiles2/NovemberTweets65.json\n",
      "jsonFiles2/NovemberTweets66.json\n",
      "jsonFiles2/NovemberTweets67.json\n",
      "jsonFiles2/NovemberTweets68.json\n",
      "jsonFiles2/NovemberTweets69.json\n",
      "jsonFiles2/NovemberTweets70.json\n",
      "jsonFiles2/NovemberTweets71.json\n",
      "jsonFiles2/NovemberTweets72.json\n",
      "jsonFiles2/NovemberTweets73.json\n",
      "jsonFiles2/NovemberTweets74.json\n",
      "jsonFiles2/NovemberTweets75.json\n",
      "jsonFiles2/NovemberTweets76.json\n",
      "jsonFiles2/NovemberTweets77.json\n",
      "jsonFiles2/NovemberTweets78.json\n",
      "jsonFiles2/NovemberTweets79.json\n"
     ]
    }
   ],
   "source": [
    "json_df = spark.read.option(\"multiline\", \"true\").json(\n",
    "    \"jsonFiles2/NovemberTweets.json\")\n",
    "\n",
    "for i in range(2, 80):\n",
    "    path = \"jsonFiles2/NovemberTweets\"+str(i)+\".json\"\n",
    "    # print(path)\n",
    "    temp_df = spark.read.option(\"multiline\", \"true\").json(path=path)\n",
    "    json_df = json_df.union(temp_df)\n",
    "    json_df.count()\n",
    "    temp_df=None"
   ]
  },
  {
   "attachments": {},
   "cell_type": "markdown",
   "metadata": {},
   "source": [
    "### 2.4 Create a new dataframe ***data_df*** that contains only the data attribute of each tweet"
   ]
  },
  {
   "cell_type": "code",
   "execution_count": 7,
   "metadata": {},
   "outputs": [],
   "source": [
    "# Select the data column from the json_df, and adds a new column to the data_df called \"data\"\n",
    "# that column has an alias called \"data\", and each row has the data of only one objects.\n",
    "data_df=json_df.select('data').withColumn('data', explode('data').alias('data'))"
   ]
  },
  {
   "attachments": {},
   "cell_type": "markdown",
   "metadata": {},
   "source": [
    "#### 2.4.1 Selecting only the inner attributes of the ***data*** attribute "
   ]
  },
  {
   "cell_type": "code",
   "execution_count": 10,
   "metadata": {},
   "outputs": [],
   "source": [
    "data_df = data_df.select('data.author_id',\n",
    "                         'data.created_at',\n",
    "                         'data.geo.place_id',\n",
    "                         'data.id',\n",
    "                         'data.public_metrics',\n",
    "                         'data.text')"
   ]
  },
  {
   "attachments": {},
   "cell_type": "markdown",
   "metadata": {},
   "source": [
    "### 2.5 Create a new dataframe ***place_df*** that contains only the *includes.places* attribute of each tweet"
   ]
  },
  {
   "cell_type": "code",
   "execution_count": 12,
   "metadata": {},
   "outputs": [],
   "source": [
    "# select the place content\n",
    "place_df=json_df.select('includes.places')"
   ]
  },
  {
   "attachments": {},
   "cell_type": "markdown",
   "metadata": {},
   "source": [
    "### 2.6 Create a new dataframe ***user_df*** that contains only the *includes.users* attribute of each tweet"
   ]
  },
  {
   "cell_type": "code",
   "execution_count": 14,
   "metadata": {},
   "outputs": [],
   "source": [
    "# select the user content\n",
    "user_df=json_df.select('includes.users')"
   ]
  },
  {
   "cell_type": "code",
   "execution_count": 15,
   "metadata": {},
   "outputs": [
    {
     "name": "stdout",
     "output_type": "stream",
     "text": [
      "root\n",
      " |-- users: array (nullable = true)\n",
      " |    |-- element: struct (containsNull = true)\n",
      " |    |    |-- id: string (nullable = true)\n",
      " |    |    |-- location: string (nullable = true)\n",
      " |    |    |-- name: string (nullable = true)\n",
      " |    |    |-- username: string (nullable = true)\n",
      "\n"
     ]
    }
   ],
   "source": [
    "user_df.printSchema()"
   ]
  },
  {
   "attachments": {},
   "cell_type": "markdown",
   "metadata": {},
   "source": [
    "### 2.7 Unravel the nested json"
   ]
  },
  {
   "cell_type": "code",
   "execution_count": 16,
   "metadata": {},
   "outputs": [],
   "source": [
    "import pyspark.sql.types as T\n",
    "from pyspark.sql.functions import col\n"
   ]
  },
  {
   "attachments": {},
   "cell_type": "markdown",
   "metadata": {},
   "source": [
    "#### 2.7.1 Define a function to read the nested json structure"
   ]
  },
  {
   "cell_type": "code",
   "execution_count": 17,
   "metadata": {},
   "outputs": [],
   "source": [
    "def read_nested_json(df):\n",
    "    column_list = []\n",
    "    # Iterate over all the column names in the schema\n",
    "    for column_name in df.schema.names:\n",
    "        # Check if the column is of \"ArrayType\"\n",
    "        if isinstance(df.schema[column_name].dataType, T.ArrayType):\n",
    "            # Replace the column of \"ArrayType\" with an exploded version of that column\n",
    "            df = df.withColumn(column_name, explode(column_name).alias(column_name))\n",
    "            # Append the column name to an array of column list array\n",
    "            column_list.append(column_name)\n",
    "\n",
    "        # Check if the column is of \"StructType\"\n",
    "        elif isinstance(df.schema[column_name].dataType, T.StructType):\n",
    "            # Iterate over all fields of this struct\n",
    "            for field in df.schema[column_name].dataType.fields:\n",
    "                # Append a new column made of the column name and the field name to the column list array \n",
    "                column_list.append(col(column_name + \".\" + field.name).alias(column_name + \"_\" + field.name))\n",
    "        \n",
    "        # If the column is neither an \"ArrayType\" nor a \"StructType\" aka \"Leaf\" attribute\n",
    "        # eg:\"String\" , \"Long\", etc.\n",
    "        # add this column to the column list array\n",
    "        else:\n",
    "            column_list.append(column_name)\n",
    "\n",
    "    # Selecting columns using column_list from dataframe: df\n",
    "    df = df.select(column_list)\n",
    "    return df"
   ]
  },
  {
   "attachments": {},
   "cell_type": "markdown",
   "metadata": {},
   "source": [
    "#### 2.7.2 Define a function to flatten the nested JSON File"
   ]
  },
  {
   "cell_type": "code",
   "execution_count": 18,
   "metadata": {},
   "outputs": [],
   "source": [
    "# This is a recursive function to allow the flattening \n",
    "# of nested \"ArrayTypes\" or \"StructTypes\" \n",
    "def flatten_nested_json(df):\n",
    "    read_nested_json_flag = True\n",
    "    while read_nested_json_flag:\n",
    "        df = read_nested_json(df)\n",
    "        read_nested_json_flag = False\n",
    "        \n",
    "        # Check if there is still an \"ArrayType\" or \"StructType\" after the \n",
    "        # reading itertaion and if there is, iterate over the json \n",
    "        # structure again until there are no \"ArrayType\" or \"StructType\" \n",
    "        # in the dataframe, only primitive types.\n",
    "        for column_name in df.schema.names:\n",
    "            if isinstance(df.schema[column_name].dataType, T.ArrayType):\n",
    "              read_nested_json_flag = True\n",
    "            elif isinstance(df.schema[column_name].dataType, T.StructType):\n",
    "              read_nested_json_flag = True\n",
    "    return df"
   ]
  },
  {
   "attachments": {},
   "cell_type": "markdown",
   "metadata": {},
   "source": [
    "#### 2.7.3 Flatten the Data df "
   ]
  },
  {
   "cell_type": "code",
   "execution_count": 19,
   "metadata": {},
   "outputs": [
    {
     "name": "stdout",
     "output_type": "stream",
     "text": [
      "root\n",
      " |-- author_id: string (nullable = true)\n",
      " |-- created_at: string (nullable = true)\n",
      " |-- place_id: string (nullable = true)\n",
      " |-- id: string (nullable = true)\n",
      " |-- public_metrics_like_count: long (nullable = true)\n",
      " |-- public_metrics_quote_count: long (nullable = true)\n",
      " |-- public_metrics_reply_count: long (nullable = true)\n",
      " |-- public_metrics_retweet_count: long (nullable = true)\n",
      " |-- text: string (nullable = true)\n",
      "\n"
     ]
    }
   ],
   "source": [
    "data_df=flatten_nested_json(data_df)"
   ]
  },
  {
   "attachments": {},
   "cell_type": "markdown",
   "metadata": {},
   "source": [
    "#### 2.7.4 Perform different sql queries on the data dataframe"
   ]
  },
  {
   "cell_type": "code",
   "execution_count": 20,
   "metadata": {},
   "outputs": [
    {
     "name": "stdout",
     "output_type": "stream",
     "text": [
      "+--------+\n",
      "|count(1)|\n",
      "+--------+\n",
      "|   38524|\n",
      "+--------+\n",
      "\n"
     ]
    }
   ],
   "source": [
    "# change dataframe name\n",
    "data_df.createOrReplaceTempView(\"df_data\")"
   ]
  },
  {
   "attachments": {},
   "cell_type": "markdown",
   "metadata": {},
   "source": [
    "#### 2.7.5 Flatten the Place df "
   ]
  },
  {
   "cell_type": "code",
   "execution_count": 22,
   "metadata": {},
   "outputs": [
    {
     "name": "stdout",
     "output_type": "stream",
     "text": [
      "root\n",
      " |-- places_country: string (nullable = true)\n",
      " |-- places_country_code: string (nullable = true)\n",
      " |-- places_full_name: string (nullable = true)\n",
      " |-- places_id: string (nullable = true)\n",
      "\n"
     ]
    }
   ],
   "source": [
    "place_df=flatten_nested_json(place_df)"
   ]
  },
  {
   "attachments": {},
   "cell_type": "markdown",
   "metadata": {},
   "source": [
    "#### 2.7.6 Perform different sql queries on the dataframe "
   ]
  },
  {
   "cell_type": "code",
   "execution_count": 23,
   "metadata": {},
   "outputs": [
    {
     "name": "stdout",
     "output_type": "stream",
     "text": [
      "+--------+\n",
      "|count(1)|\n",
      "+--------+\n",
      "|    3096|\n",
      "+--------+\n",
      "\n"
     ]
    }
   ],
   "source": [
    "# change the name of place_df dataframe\n",
    "place_df.createOrReplaceTempView(\"df_place\")"
   ]
  },
  {
   "attachments": {},
   "cell_type": "markdown",
   "metadata": {},
   "source": [
    "#### 2.7.7 Flatten the Users df"
   ]
  },
  {
   "cell_type": "code",
   "execution_count": 25,
   "metadata": {},
   "outputs": [],
   "source": [
    "# flatten the neseted json of user\n",
    "user_df=flatten_nested_json(user_df)"
   ]
  },
  {
   "attachments": {},
   "cell_type": "markdown",
   "metadata": {},
   "source": [
    "#### 2.7.8 Perform different sql queries on the dataframe to learn more information "
   ]
  },
  {
   "cell_type": "code",
   "execution_count": 26,
   "metadata": {},
   "outputs": [
    {
     "name": "stdout",
     "output_type": "stream",
     "text": [
      "+------------------------+\n",
      "|count(DISTINCT users_id)|\n",
      "+------------------------+\n",
      "|                    7081|\n",
      "+------------------------+\n",
      "\n"
     ]
    }
   ],
   "source": [
    "# change the name of user_df dataframe\n",
    "user_df.createOrReplaceTempView(\"df_user\")"
   ]
  },
  {
   "attachments": {},
   "cell_type": "markdown",
   "metadata": {},
   "source": [
    "## 3. Topic Modeling"
   ]
  },
  {
   "attachments": {},
   "cell_type": "markdown",
   "metadata": {},
   "source": [
    "### 3.1 Importing Libs"
   ]
  },
  {
   "cell_type": "code",
   "execution_count": 29,
   "metadata": {},
   "outputs": [],
   "source": [
    "from pyspark.ml.clustering import LDA\n",
    "from pyspark.ml.feature import RegexTokenizer, StopWordsRemover, CountVectorizer\n",
    "from gensim.models import LsiModel\n"
   ]
  },
  {
   "attachments": {},
   "cell_type": "markdown",
   "metadata": {},
   "source": [
    "###  3.2 Create a new dataframe that contains only the tweet id, creation date and text"
   ]
  },
  {
   "cell_type": "code",
   "execution_count": 30,
   "metadata": {},
   "outputs": [],
   "source": [
    "tweet_text = data_df.select('id','created_at','text')"
   ]
  },
  {
   "attachments": {},
   "cell_type": "markdown",
   "metadata": {},
   "source": [
    "### 3.3 Data Preprocessing and Cleaning"
   ]
  },
  {
   "attachments": {},
   "cell_type": "markdown",
   "metadata": {},
   "source": [
    "#### 3.3.1 Importing Libs"
   ]
  },
  {
   "cell_type": "code",
   "execution_count": 33,
   "metadata": {},
   "outputs": [],
   "source": [
    "# Preprocess steps\n",
    "import re\n",
    "from pyspark.sql.functions import to_timestamp\n",
    "import pyspark.sql.types as T\n"
   ]
  },
  {
   "attachments": {},
   "cell_type": "markdown",
   "metadata": {},
   "source": [
    "#### 3.3.2 Change the *created_at* attribute from **String** to **DateType**"
   ]
  },
  {
   "cell_type": "code",
   "execution_count": 34,
   "metadata": {},
   "outputs": [],
   "source": [
    "tweet_text=tweet_text.withColumn(\"created_date\", tweet_text['created_at'].cast(T.DateType()))"
   ]
  },
  {
   "attachments": {},
   "cell_type": "markdown",
   "metadata": {},
   "source": [
    "#### 3.3.3 Define the UDFs for the cleaning process"
   ]
  },
  {
   "cell_type": "code",
   "execution_count": 35,
   "metadata": {},
   "outputs": [],
   "source": [
    "PUNCTUATION = '!\"$%&\\'()*+,-./:;<=>?[\\\\]^_`{|}~•@â'\n",
    "\n",
    "def removeLinks(tweet):\n",
    "    tweet = re.sub(r'http\\S+', '', tweet) \n",
    "    tweet = re.sub(r'bit.ly/\\S+', '', tweet) \n",
    "    tweet = tweet.strip('[link]') \n",
    "    return tweet\n",
    "def removeMentions(tweet):\n",
    "    tweet = re.sub('(RT\\s@[A-Za-z]+[A-Za-z0-9-_]+)', '', tweet) \n",
    "    tweet = re.sub('(@[A-Za-z]+[A-Za-z0-9-_]+)', '', tweet) \n",
    "    return tweet\n",
    "def removePunctuation(tweet):\n",
    "    tweet = re.sub('['+ PUNCTUATION + ']+', ' ', tweet) \n",
    "    return tweet\n",
    "def removeNumbers(tweet):\n",
    "    tweet = re.sub('([0-9]+)', '', tweet) \n",
    "    return tweet"
   ]
  },
  {
   "cell_type": "code",
   "execution_count": 36,
   "metadata": {},
   "outputs": [],
   "source": [
    "# register user defined function\n",
    "removeLinks = udf(removeLinks)\n",
    "removeMentions = udf(removeMentions)\n",
    "removePunctuation=udf(removePunctuation)\n",
    "removeNumbers=udf(removeNumbers)"
   ]
  },
  {
   "attachments": {},
   "cell_type": "markdown",
   "metadata": {},
   "source": [
    "#### 3.3.4 Remove Links, User Mentions, Punctuation and Numbers from *tweet_text*"
   ]
  },
  {
   "cell_type": "code",
   "execution_count": 37,
   "metadata": {},
   "outputs": [],
   "source": [
    "tweet_text=tweet_text.withColumn('cleaned_Text', removeLinks(tweet_text['text']))"
   ]
  },
  {
   "cell_type": "code",
   "execution_count": 38,
   "metadata": {},
   "outputs": [],
   "source": [
    "tweet_text=tweet_text.withColumn('cleaned_Text', removeMentions(tweet_text['cleaned_Text']))"
   ]
  },
  {
   "cell_type": "code",
   "execution_count": 39,
   "metadata": {},
   "outputs": [],
   "source": [
    "tweet_text=tweet_text.withColumn('cleaned_Text', removePunctuation(tweet_text['cleaned_Text']))"
   ]
  },
  {
   "cell_type": "code",
   "execution_count": 40,
   "metadata": {},
   "outputs": [],
   "source": [
    "tweet_text=tweet_text.withColumn('cleaned_Text', removeNumbers(tweet_text['cleaned_Text']))"
   ]
  },
  {
   "attachments": {},
   "cell_type": "markdown",
   "metadata": {},
   "source": [
    "##### 3.3.4.1 Display 10 original tweets and their corresponding cleaned text"
   ]
  },
  {
   "cell_type": "code",
   "execution_count": 41,
   "metadata": {},
   "outputs": [
    {
     "name": "stdout",
     "output_type": "stream",
     "text": [
      "+----------------------------------------------------------------------------------------------------------------------------------------------------------------------------+-------------------------------------------------------------------------------------------------------------------------------------------------------------------+\n",
      "|text                                                                                                                                                                        |cleaned_Text                                                                                                                                                       |\n",
      "+----------------------------------------------------------------------------------------------------------------------------------------------------------------------------+-------------------------------------------------------------------------------------------------------------------------------------------------------------------+\n",
      "|@_lola34 Right                                                                                                                                                              | lola Right                                                                                                                                                        |\n",
      "|@moviewilds Good.Good                                                                                                                                                       | Good Good                                                                                                                                                         |\n",
      "|@moviewilds Very very nice 👍                                                                                                                                               | Very very nice 👍                                                                                                                                                 |\n",
      "|@moviewilds Beautiful may happtey 🥰🥰                                                                                                                                      | Beautiful may happtey 🥰🥰                                                                                                                                        |\n",
      "|Best time in CILANTRO🤍🐼 https://t.co/7ntIMMfK56                                                                                                                           |Best time in CILANTRO🤍🐼                                                                                                                                          |\n",
      "|I take your hand, hold it closer to mine                                                                                                                                    |I take your hand  hold it closer to mine                                                                                                                           |\n",
      "|When the world turns its back on you, turn your back on the world, don't give up 🖤👉 https://t.co/9JkPwsGFyp                                                               |When the world turns its back on you  turn your back on the world  don t give up 🖤👉                                                                              |\n",
      "|@iamsrk good night 😴😴😴😴😴😴                                                                                                                                             | good night 😴😴😴😴😴😴                                                                                                                                           |\n",
      "|Fav month 🤍                                                                                                                                                                |Fav month 🤍                                                                                                                                                       |\n",
      "|@Toonzatt Cabinet of curiosities - Preacher - American gods - the boys - paranormal - khalsana b shyaka - abwab elkhoof - Quabeel - the walking dead - love,death&amp;robots| Cabinet of curiosities   Preacher   American gods   the boys   paranormal   khalsana b shyaka   abwab elkhoof   Quabeel   the walking dead   love death amp robots|\n",
      "+----------------------------------------------------------------------------------------------------------------------------------------------------------------------------+-------------------------------------------------------------------------------------------------------------------------------------------------------------------+\n",
      "only showing top 10 rows\n",
      "\n"
     ]
    }
   ],
   "source": [
    "tweet_text.select('text','cleaned_Text').show(10)"
   ]
  },
  {
   "attachments": {},
   "cell_type": "markdown",
   "metadata": {},
   "source": [
    "#### 3.3.5 Create a tokenizer "
   ]
  },
  {
   "cell_type": "code",
   "execution_count": 42,
   "metadata": {},
   "outputs": [],
   "source": [
    "# A tokenizer that matches any tokens that contains characters,\n",
    "# with a minimum length of 3 characters, from the cleaned_Text,\n",
    "# and output the tokens in the tokens output.\n",
    "\n",
    "tokenizer = RegexTokenizer().setPattern(\"[\\\\W_]+\").setMinTokenLength(3).setInputCol(\"cleaned_Text\").setOutputCol(\"tokens\")"
   ]
  },
  {
   "cell_type": "code",
   "execution_count": 43,
   "metadata": {},
   "outputs": [],
   "source": [
    "tokenized_tweets = tokenizer.transform(tweet_text)"
   ]
  },
  {
   "attachments": {},
   "cell_type": "markdown",
   "metadata": {},
   "source": [
    "#### 3.3.6 Create a WordNet Lemmatizer"
   ]
  },
  {
   "cell_type": "code",
   "execution_count": 45,
   "metadata": {},
   "outputs": [
    {
     "name": "stderr",
     "output_type": "stream",
     "text": [
      "[nltk_data] Downloading package wordnet to\n",
      "[nltk_data]     C:\\Users\\zyady\\AppData\\Roaming\\nltk_data...\n",
      "[nltk_data]   Package wordnet is already up-to-date!\n"
     ]
    }
   ],
   "source": [
    "import nltk\n",
    "from nltk.stem import WordNetLemmatizer\n",
    "nltk.download('wordnet')\n",
    "\n",
    "lemmatizer = WordNetLemmatizer()"
   ]
  },
  {
   "attachments": {},
   "cell_type": "markdown",
   "metadata": {},
   "source": [
    "##### 3.6.6.1 Create a lemmatizing function"
   ]
  },
  {
   "cell_type": "code",
   "execution_count": 46,
   "metadata": {},
   "outputs": [],
   "source": [
    "# Defining Lemmatizing function that takes each row \n",
    "# and lemmatize each word to a verb and return the \n",
    "# row containing the lemmatized words.\n",
    "\n",
    "def lemmatization(row):\n",
    "    row = [lemmatizer.lemmatize(word,'v') for word in row]\n",
    "    return row\n",
    "\n",
    "\n",
    "lemmatize = udf(lemmatization)"
   ]
  },
  {
   "attachments": {},
   "cell_type": "markdown",
   "metadata": {},
   "source": [
    "##### 3.6.6.2 Create a new column that contains the lemmatized tokens"
   ]
  },
  {
   "cell_type": "code",
   "execution_count": 47,
   "metadata": {},
   "outputs": [],
   "source": [
    "\n",
    "tokenized_tweets=tokenized_tweets.withColumn('tokens_lemma', lemmatize(tokenized_tweets['tokens']))"
   ]
  },
  {
   "attachments": {},
   "cell_type": "markdown",
   "metadata": {},
   "source": [
    "#### 3.3.7 Removing Stop words"
   ]
  },
  {
   "cell_type": "code",
   "execution_count": 49,
   "metadata": {},
   "outputs": [],
   "source": [
    "twitter_stopwords = open('TwitterStopWords.txt', 'r').read().split(\",\")"
   ]
  },
  {
   "cell_type": "code",
   "execution_count": 50,
   "metadata": {},
   "outputs": [],
   "source": [
    "# Create a new stopwords list from twitter stop list and the nltk wordnet list\n",
    "stopwordList=StopWordsRemover().getStopWords()\n",
    "stopwordList.extend(twitter_stopwords)\n",
    "stopwordList = list(set(stopwordList))"
   ]
  },
  {
   "cell_type": "code",
   "execution_count": 51,
   "metadata": {},
   "outputs": [],
   "source": [
    "# Create a new stopWordsRemover with the stopwords as our \n",
    "# extended stopwordsList, the input from the tokens column,\n",
    "# and output to cleaned_tokens column.\n",
    "remover = StopWordsRemover(stopWords=stopwordList).setInputCol(\"tokens\").setOutputCol(\"cleaned_tokens\")"
   ]
  },
  {
   "cell_type": "code",
   "execution_count": 52,
   "metadata": {},
   "outputs": [],
   "source": [
    "cleaned_tweets = remover.transform(tokenized_tweets)"
   ]
  },
  {
   "attachments": {},
   "cell_type": "markdown",
   "metadata": {},
   "source": [
    "### 3.4 Latent Dirichlet Allocation (LDA)"
   ]
  },
  {
   "cell_type": "code",
   "execution_count": 54,
   "metadata": {},
   "outputs": [],
   "source": [
    "# create a vector of words that at least appeared in two different tweets, and set maximum vocab size to 20000.\n",
    "vectorizer = CountVectorizer().setInputCol(\"cleaned_tokens\").setOutputCol(\"features\").setVocabSize(20000).setMinDF(2).fit(cleaned_tweets)\n",
    "wordVectors = vectorizer.transform(cleaned_tweets)"
   ]
  },
  {
   "cell_type": "code",
   "execution_count": 56,
   "metadata": {},
   "outputs": [],
   "source": [
    "# set number of topic\n",
    "# set the mertic to evaluate model performance\n",
    "num_topics = range(2, 11)\n",
    "models = []\n",
    "log_likeli = []\n",
    "log_perp = []\n",
    "for num in num_topics:\n",
    "    # LDA\n",
    "    # create Latent Dirichlet Allocation model and run it on our data with 50 iteration and selected topics number\n",
    "    lda = LDA(k=num, maxIter=50)\n",
    "    # fit the model on data\n",
    "    ldaModel = lda.fit(wordVectors)\n",
    "    models.append(ldaModel)\n",
    "    ll = ldaModel.logLikelihood(wordVectors)\n",
    "    lp = ldaModel.logPerplexity(wordVectors)\n",
    "    log_likeli.append(ll)\n",
    "    log_perp.append(lp)\n"
   ]
  },
  {
   "cell_type": "code",
   "execution_count": 57,
   "metadata": {},
   "outputs": [],
   "source": [
    "import pandas as pd\n",
    "import matplotlib.pyplot as plt\n",
    "plot_data=pd.DataFrame(list(zip(num_topics,log_likeli,log_perp)),\n",
    "            columns=['topics_num','logLikelihood','logPerplexity'])"
   ]
  },
  {
   "cell_type": "code",
   "execution_count": 84,
   "metadata": {},
   "outputs": [
    {
     "data": {
      "image/png": "[encoded data removed]",
      "text/plain": [
       "<Figure size 640x480 with 1 Axes>"
      ]
     },
     "metadata": {},
     "output_type": "display_data"
    }
   ],
   "source": [
    "# use the elbow method to determine the optimal k\n",
    "plot_data.plot(x='topics_num', y='logLikelihood', kind='line')\n",
    "plt.show()"
   ]
  },
  {
   "cell_type": "code",
   "execution_count": 59,
   "metadata": {},
   "outputs": [
    {
     "data": {
      "image/png": "[encoded data removed]",
      "text/plain": [
       "<Figure size 640x480 with 1 Axes>"
      ]
     },
     "metadata": {},
     "output_type": "display_data"
    }
   ],
   "source": [
    "# use the elbow method to determine the optimal k\n",
    "plot_data.plot(x='topics_num', y='logPerplexity', kind='line')\n",
    "plt.show()"
   ]
  },
  {
   "cell_type": "code",
   "execution_count": 60,
   "metadata": {},
   "outputs": [],
   "source": [
    "model=models[2]"
   ]
  },
  {
   "cell_type": "code",
   "execution_count": 96,
   "metadata": {},
   "outputs": [],
   "source": [
    "# LDA\n",
    "# create Latent Dirichlet Allocation model and run it on our data with 50 iteration and selected topics number\n",
    "lda = LDA(k=4, maxIter=100)\n",
    "# fit the model on data\n",
    "model = lda.fit(wordVectors)"
   ]
  },
  {
   "cell_type": "code",
   "execution_count": 97,
   "metadata": {},
   "outputs": [],
   "source": [
    "ll = model.logLikelihood(wordVectors)\n",
    "lp = model.logPerplexity(wordVectors)\n"
   ]
  },
  {
   "cell_type": "code",
   "execution_count": 98,
   "metadata": {},
   "outputs": [
    {
     "name": "stdout",
     "output_type": "stream",
     "text": [
      "The lower bound on the log likelihood of the entire corpus:  -1808846.5923513882\n",
      "The upper bound on perplexity:  7.956429869938893\n"
     ]
    }
   ],
   "source": [
    "print(\"The lower bound on the log likelihood of the entire corpus: \",ll)\n",
    "print(\"The upper bound on perplexity: \",lp)"
   ]
  },
  {
   "cell_type": "code",
   "execution_count": 99,
   "metadata": {},
   "outputs": [],
   "source": [
    "# extract vocabulary from CountVectorizer\n",
    "vocab = vectorizer.vocabulary"
   ]
  },
  {
   "cell_type": "code",
   "execution_count": 100,
   "metadata": {},
   "outputs": [
    {
     "name": "stdout",
     "output_type": "stream",
     "text": [
      "+-----+--------------------+--------------------+\n",
      "|topic|         termIndices|         termWeights|\n",
      "+-----+--------------------+--------------------+\n",
      "|    0|[24, 67, 112, 171...|[0.02891013345871...|\n",
      "|    1|[6, 22, 26, 32, 2...|[0.03819556024476...|\n",
      "|    2|[0, 4, 2, 21, 16,...|[0.03823179102388...|\n",
      "|    3|[1, 3, 5, 7, 9, 1...|[0.03784027228227...|\n",
      "+-----+--------------------+--------------------+\n",
      "\n"
     ]
    }
   ],
   "source": [
    "# create topics based on LDA\n",
    "lda_topics = model.describeTopics()"
   ]
  },
  {
   "cell_type": "code",
   "execution_count": 103,
   "metadata": {},
   "outputs": [
    {
     "name": "stdout",
     "output_type": "stream",
     "text": [
      "topic: 0\n",
      "*************************\n",
      "done\n",
      "please\n",
      "free\n",
      "english\n",
      "giza\n",
      "king\n",
      "best\n",
      "real\n",
      "phrases\n",
      "literally\n",
      "*************************\n",
      "topic: 1\n",
      "*************************\n",
      "egypt\n",
      "photo\n",
      "cairo\n",
      "posted\n",
      "thanks\n",
      "gulf\n",
      "new\n",
      "check\n",
      "true\n",
      "egyptian\n",
      "*************************\n",
      "topic: 2\n",
      "*************************\n",
      "cop\n",
      "climate\n",
      "amp\n",
      "change\n",
      "need\n",
      "people\n",
      "youth\n",
      "action\n",
      "world\n",
      "africa\n",
      "*************************\n",
      "topic: 3\n",
      "*************************\n",
      "morning\n",
      "beautiful\n",
      "sweet\n",
      "good\n",
      "love\n",
      "friend\n",
      "amp\n",
      "happiness\n",
      "day\n",
      "evening\n",
      "*************************\n"
     ]
    }
   ],
   "source": [
    "topics_rdd = lda_topics.rdd\n",
    "topics_words = topics_rdd\\\n",
    "    .map(lambda row: row['termIndices'])\\\n",
    "    .map(lambda idx_list: [vocab[idx] for idx in idx_list])\\\n",
    "    .collect()\n",
    "\n",
    "for idx, topic in enumerate(topics_words):\n",
    "    print(\"topic: {}\".format(idx))\n",
    "    print(\"*\"*25)\n",
    "    for word in topic:\n",
    "       print(word)\n",
    "    print(\"*\"*25)\n"
   ]
  },
  {
   "cell_type": "code",
   "execution_count": 104,
   "metadata": {},
   "outputs": [
    {
     "name": "stdout",
     "output_type": "stream",
     "text": [
      "+-------------------+--------------------+--------------------+------------+--------------------+--------------------+--------------------+--------------------+--------------------+--------------------+\n",
      "|                 id|          created_at|                text|created_date|        cleaned_Text|              tokens|        tokens_lemma|      cleaned_tokens|            features|   topicDistribution|\n",
      "+-------------------+--------------------+--------------------+------------+--------------------+--------------------+--------------------+--------------------+--------------------+--------------------+\n",
      "|1598103900544176128|2022-11-30T23:57:...|      @_lola34 Right|  2022-11-30|          lola Right|       [lola, right]|       [lola, right]|       [lola, right]|(12571,[19,10938]...|[0.04884244308879...|\n",
      "|1598103812312805376|2022-11-30T23:56:...|@moviewilds Good....|  2022-11-30|           Good Good|        [good, good]|        [good, good]|        [good, good]|   (12571,[7],[2.0])|[0.04884031830913...|\n",
      "|1598103231313608704|2022-11-30T23:54:...|@moviewilds Very ...|  2022-11-30|   Very very nice 👍|  [very, very, nice]|  [very, very, nice]|                  []|       (12571,[],[])|   [0.0,0.0,0.0,0.0]|\n",
      "|1598103089105424387|2022-11-30T23:54:...|@moviewilds Beaut...|  2022-11-30| Beautiful may ha...|[beautiful, may, ...|[beautiful, may, ...|[beautiful, may, ...|(12571,[3,160,412...|[0.03603262063122...|\n",
      "|1598102785744318466|2022-11-30T23:52:...|Best time in CILA...|  2022-11-30|Best time in CILA...|[best, time, cila...|[best, time, cila...|    [best, cilantro]|  (12571,[17],[1.0])|[0.07602509564816...|\n",
      "|1598102206095699969|2022-11-30T23:50:...|I take your hand,...|  2022-11-30|I take your hand ...|[take, your, hand...|[take, your, hand...|[take, hand, hold...|(12571,[25,663,72...|[0.02363586431271...|\n",
      "|1598102019444977665|2022-11-30T23:49:...|When the world tu...|  2022-11-30|When the world tu...|[when, the, world...|[when, the, world...|[world, turns, ba...|(12571,[14,46,123...|[0.01759824687476...|\n",
      "|1598101996510523393|2022-11-30T23:49:...|@iamsrk good nigh...|  2022-11-30| good night 😴😴?...|       [good, night]|       [good, night]|       [good, night]|(12571,[7,38],[1....|[0.04884009354757...|\n",
      "|1598101991276056576|2022-11-30T23:49:...|        Fav month 🤍|  2022-11-30|        Fav month 🤍|        [fav, month]|        [fav, month]|        [fav, month]|(12571,[700,716],...|[0.40695988647832...|\n",
      "|1598101703106375681|2022-11-30T23:48:...|@Toonzatt Cabinet...|  2022-11-30| Cabinet of curio...|[cabinet, curiosi...|[cabinet, curiosi...|[cabinet, curiosi...|(12571,[2,9,704,7...|[0.01273476805827...|\n",
      "+-------------------+--------------------+--------------------+------------+--------------------+--------------------+--------------------+--------------------+--------------------+--------------------+\n",
      "only showing top 10 rows\n",
      "\n"
     ]
    }
   ],
   "source": [
    "transformed = model.transform(wordVectors)"
   ]
  },
  {
   "cell_type": "code",
   "execution_count": 105,
   "metadata": {},
   "outputs": [
    {
     "name": "stdout",
     "output_type": "stream",
     "text": [
      "root\n",
      " |-- id: string (nullable = true)\n",
      " |-- created_at: string (nullable = true)\n",
      " |-- text: string (nullable = true)\n",
      " |-- created_date: date (nullable = true)\n",
      " |-- cleaned_Text: string (nullable = true)\n",
      " |-- tokens: array (nullable = true)\n",
      " |    |-- element: string (containsNull = true)\n",
      " |-- tokens_lemma: string (nullable = true)\n",
      " |-- cleaned_tokens: array (nullable = true)\n",
      " |    |-- element: string (containsNull = true)\n",
      " |-- features: vector (nullable = true)\n",
      " |-- topicDistribution: vector (nullable = true)\n",
      "\n"
     ]
    }
   ],
   "source": [
    "transformed.printSchema()"
   ]
  },
  {
   "cell_type": "code",
   "execution_count": 106,
   "metadata": {},
   "outputs": [],
   "source": [
    "to_array = udf(lambda v: v.toArray().tolist(), T.ArrayType(T.FloatType()))"
   ]
  },
  {
   "cell_type": "code",
   "execution_count": 107,
   "metadata": {},
   "outputs": [],
   "source": [
    "max_index = udf(lambda x: x.index(__builtin__.max(x))\n",
    "                if x is not None else None, T.IntegerType())"
   ]
  },
  {
   "cell_type": "code",
   "execution_count": 108,
   "metadata": {},
   "outputs": [],
   "source": [
    "topic_index = udf(lambda x: 'topic'+str(x), T.StringType())"
   ]
  },
  {
   "cell_type": "code",
   "execution_count": 109,
   "metadata": {},
   "outputs": [],
   "source": [
    "key_word = udf(lambda x: ', '.join(topics_words[x]), T.StringType())"
   ]
  },
  {
   "cell_type": "code",
   "execution_count": 110,
   "metadata": {},
   "outputs": [],
   "source": [
    "transformed=transformed.withColumn('topicDistribution_array', to_array(transformed['topicDistribution']))\n",
    "transformed=transformed.withColumn('dominant_topic_index', max_index(transformed['topicDistribution_array']))"
   ]
  },
  {
   "cell_type": "code",
   "execution_count": 111,
   "metadata": {},
   "outputs": [],
   "source": [
    "transformed=transformed.withColumn('dominant_topic', topic_index(transformed['dominant_topic_index']))"
   ]
  },
  {
   "cell_type": "code",
   "execution_count": 112,
   "metadata": {},
   "outputs": [],
   "source": [
    "transformed=transformed.withColumn('dominant_topic_keywords', key_word(transformed['dominant_topic_index']))"
   ]
  },
  {
   "cell_type": "code",
   "execution_count": 115,
   "metadata": {},
   "outputs": [
    {
     "name": "stdout",
     "output_type": "stream",
     "text": [
      "+------------+--------------+-----------------------+-----+\n",
      "|created_date|dominant_topic|dominant_topic_keywords|count|\n",
      "+------------+--------------+-----------------------+-----+\n",
      "|  2022-11-01|        topic0|   done, please, fre...|  214|\n",
      "|  2022-11-01|        topic1|   egypt, photo, cai...|  231|\n",
      "|  2022-11-01|        topic2|   cop, climate, amp...|  152|\n",
      "|  2022-11-01|        topic3|   morning, beautifu...|  647|\n",
      "|  2022-11-02|        topic0|   done, please, fre...|  213|\n",
      "|  2022-11-02|        topic1|   egypt, photo, cai...|  183|\n",
      "|  2022-11-02|        topic2|   cop, climate, amp...|  133|\n",
      "|  2022-11-02|        topic3|   morning, beautifu...|  523|\n",
      "|  2022-11-03|        topic0|   done, please, fre...|  231|\n",
      "|  2022-11-03|        topic1|   egypt, photo, cai...|  200|\n",
      "|  2022-11-03|        topic2|   cop, climate, amp...|  122|\n",
      "|  2022-11-03|        topic3|   morning, beautifu...|  616|\n",
      "|  2022-11-04|        topic0|   done, please, fre...|  225|\n",
      "|  2022-11-04|        topic1|   egypt, photo, cai...|  234|\n",
      "|  2022-11-04|        topic2|   cop, climate, amp...|  181|\n",
      "|  2022-11-04|        topic3|   morning, beautifu...|  643|\n",
      "|  2022-11-05|        topic0|   done, please, fre...|  254|\n",
      "|  2022-11-05|        topic1|   egypt, photo, cai...|  262|\n",
      "|  2022-11-05|        topic2|   cop, climate, amp...|  221|\n",
      "|  2022-11-05|        topic3|   morning, beautifu...|  706|\n",
      "+------------+--------------+-----------------------+-----+\n",
      "only showing top 20 rows\n",
      "\n"
     ]
    }
   ],
   "source": [
    "transformed.groupBy(\"created_date\",\"dominant_topic\",\"dominant_topic_keywords\").count().orderBy(\"created_date\",\"dominant_topic\").show()"
   ]
  },
  {
   "cell_type": "code",
   "execution_count": 117,
   "metadata": {},
   "outputs": [],
   "source": [
    "transformed.groupBy(\"created_date\",\"dominant_topic\",\"dominant_topic_keywords\").count().toPandas().to_csv('NovemberTopics.csv')"
   ]
  }
 ],
 "metadata": {
  "kernelspec": {
   "display_name": "venv",
   "language": "python",
   "name": "python3"
  },
  "language_info": {
   "codemirror_mode": {
    "name": "ipython",
    "version": 3
   },
   "file_extension": ".py",
   "mimetype": "text/x-python",
   "name": "python",
   "nbconvert_exporter": "python",
   "pygments_lexer": "ipython3",
   "version": "3.10.0 (tags/v3.10.0:b494f59, Oct  4 2021, 19:00:18) [MSC v.1929 64 bit (AMD64)]"
  },
  "orig_nbformat": 4,
  "vscode": {
   "interpreter": {
    "hash": "f1a11e907bf307fa0df6c8796ee311379cca3c33305bb1b42c8869459db0a1ae"
   }
  }
 },
 "nbformat": 4,
 "nbformat_minor": 2
}
